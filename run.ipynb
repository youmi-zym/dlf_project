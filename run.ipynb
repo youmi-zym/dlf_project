{
 "cells": [
  {
   "cell_type": "markdown",
   "id": "24168446",
   "metadata": {},
   "source": [
    "# Stereo Matching with TensorFlow and Pytorch Model"
   ]
  },
  {
   "cell_type": "markdown",
   "id": "7de5e62a",
   "metadata": {},
   "source": [
    "## Package Install"
   ]
  },
  {
   "cell_type": "code",
   "execution_count": 1,
   "id": "c678a317",
   "metadata": {
    "scrolled": true
   },
   "outputs": [
    {
     "name": "stdout",
     "output_type": "stream",
     "text": [
      "Requirement already satisfied: tensorflow-gpu in /home/yzhang/envs/miniconda3/envs/mvsnerf/lib/python3.7/site-packages (from -r requirements.txt (line 1)) (1.15.0)\n",
      "Requirement already satisfied: opencv-python==4.5.2.52 in /home/yzhang/envs/miniconda3/envs/mvsnerf/lib/python3.7/site-packages (from -r requirements.txt (line 2)) (4.5.2.52)\n",
      "Requirement already satisfied: numpy==1.20.1 in /home/yzhang/envs/miniconda3/envs/mvsnerf/lib/python3.7/site-packages (from -r requirements.txt (line 3)) (1.20.1)\n",
      "Requirement already satisfied: torch==1.10.0 in /home/yzhang/envs/miniconda3/envs/mvsnerf/lib/python3.7/site-packages (from -r requirements.txt (line 4)) (1.10.0+cu113)\n",
      "Requirement already satisfied: torchvision==0.11.1 in /home/yzhang/envs/miniconda3/envs/mvsnerf/lib/python3.7/site-packages (from -r requirements.txt (line 5)) (0.11.1+cu113)\n",
      "Requirement already satisfied: matplotlib==3.4.2 in /home/yzhang/envs/miniconda3/envs/mvsnerf/lib/python3.7/site-packages (from -r requirements.txt (line 6)) (3.4.2)\n",
      "Requirement already satisfied: ipython==7.30.1 in /home/yzhang/envs/miniconda3/envs/mvsnerf/lib/python3.7/site-packages (from -r requirements.txt (line 7)) (7.30.1)\n",
      "Requirement already satisfied: pexpect>4.3 in /home/yzhang/envs/miniconda3/envs/mvsnerf/lib/python3.7/site-packages (from ipython==7.30.1->-r requirements.txt (line 7)) (4.8.0)\n",
      "Requirement already satisfied: setuptools>=18.5 in /home/yzhang/envs/miniconda3/envs/mvsnerf/lib/python3.7/site-packages (from ipython==7.30.1->-r requirements.txt (line 7)) (52.0.0.post20210125)\n",
      "Requirement already satisfied: prompt-toolkit!=3.0.0,!=3.0.1,<3.1.0,>=2.0.0 in /home/yzhang/envs/miniconda3/envs/mvsnerf/lib/python3.7/site-packages (from ipython==7.30.1->-r requirements.txt (line 7)) (3.0.17)\n",
      "Requirement already satisfied: pygments in /home/yzhang/envs/miniconda3/envs/mvsnerf/lib/python3.7/site-packages (from ipython==7.30.1->-r requirements.txt (line 7)) (2.8.1)\n",
      "Requirement already satisfied: decorator in /home/yzhang/envs/miniconda3/envs/mvsnerf/lib/python3.7/site-packages (from ipython==7.30.1->-r requirements.txt (line 7)) (4.4.2)\n",
      "Requirement already satisfied: backcall in /home/yzhang/envs/miniconda3/envs/mvsnerf/lib/python3.7/site-packages (from ipython==7.30.1->-r requirements.txt (line 7)) (0.2.0)\n",
      "Requirement already satisfied: traitlets>=4.2 in /home/yzhang/envs/miniconda3/envs/mvsnerf/lib/python3.7/site-packages (from ipython==7.30.1->-r requirements.txt (line 7)) (5.1.1)\n",
      "Requirement already satisfied: jedi>=0.16 in /home/yzhang/envs/miniconda3/envs/mvsnerf/lib/python3.7/site-packages (from ipython==7.30.1->-r requirements.txt (line 7)) (0.17.0)\n",
      "Requirement already satisfied: pickleshare in /home/yzhang/envs/miniconda3/envs/mvsnerf/lib/python3.7/site-packages (from ipython==7.30.1->-r requirements.txt (line 7)) (0.7.5)\n",
      "Requirement already satisfied: matplotlib-inline in /home/yzhang/envs/miniconda3/envs/mvsnerf/lib/python3.7/site-packages (from ipython==7.30.1->-r requirements.txt (line 7)) (0.1.3)\n",
      "Requirement already satisfied: kiwisolver>=1.0.1 in /home/yzhang/envs/miniconda3/envs/mvsnerf/lib/python3.7/site-packages (from matplotlib==3.4.2->-r requirements.txt (line 6)) (1.3.1)\n",
      "Requirement already satisfied: pillow>=6.2.0 in /home/yzhang/envs/miniconda3/envs/mvsnerf/lib/python3.7/site-packages (from matplotlib==3.4.2->-r requirements.txt (line 6)) (8.2.0)\n",
      "Requirement already satisfied: python-dateutil>=2.7 in /home/yzhang/envs/miniconda3/envs/mvsnerf/lib/python3.7/site-packages (from matplotlib==3.4.2->-r requirements.txt (line 6)) (2.8.1)\n",
      "Requirement already satisfied: cycler>=0.10 in /home/yzhang/envs/miniconda3/envs/mvsnerf/lib/python3.7/site-packages (from matplotlib==3.4.2->-r requirements.txt (line 6)) (0.10.0)\n",
      "Requirement already satisfied: pyparsing>=2.2.1 in /home/yzhang/envs/miniconda3/envs/mvsnerf/lib/python3.7/site-packages (from matplotlib==3.4.2->-r requirements.txt (line 6)) (2.4.7)\n",
      "Requirement already satisfied: typing-extensions in /home/yzhang/envs/miniconda3/envs/mvsnerf/lib/python3.7/site-packages (from torch==1.10.0->-r requirements.txt (line 4)) (3.7.4.3)\n",
      "Requirement already satisfied: six in /home/yzhang/envs/miniconda3/envs/mvsnerf/lib/python3.7/site-packages (from cycler>=0.10->matplotlib==3.4.2->-r requirements.txt (line 6)) (1.15.0)\n",
      "Requirement already satisfied: parso>=0.7.0 in /home/yzhang/envs/miniconda3/envs/mvsnerf/lib/python3.7/site-packages (from jedi>=0.16->ipython==7.30.1->-r requirements.txt (line 7)) (0.8.2)\n",
      "Requirement already satisfied: ptyprocess>=0.5 in /home/yzhang/envs/miniconda3/envs/mvsnerf/lib/python3.7/site-packages (from pexpect>4.3->ipython==7.30.1->-r requirements.txt (line 7)) (0.7.0)\n",
      "Requirement already satisfied: wcwidth in /home/yzhang/envs/miniconda3/envs/mvsnerf/lib/python3.7/site-packages (from prompt-toolkit!=3.0.0,!=3.0.1,<3.1.0,>=2.0.0->ipython==7.30.1->-r requirements.txt (line 7)) (0.2.5)\n",
      "Requirement already satisfied: google-pasta>=0.1.6 in /home/yzhang/envs/miniconda3/envs/mvsnerf/lib/python3.7/site-packages (from tensorflow-gpu->-r requirements.txt (line 1)) (0.2.0)\n",
      "Requirement already satisfied: termcolor>=1.1.0 in /home/yzhang/envs/miniconda3/envs/mvsnerf/lib/python3.7/site-packages (from tensorflow-gpu->-r requirements.txt (line 1)) (1.1.0)\n",
      "Requirement already satisfied: keras-applications>=1.0.8 in /home/yzhang/envs/miniconda3/envs/mvsnerf/lib/python3.7/site-packages (from tensorflow-gpu->-r requirements.txt (line 1)) (1.0.8)\n",
      "Requirement already satisfied: gast==0.2.2 in /home/yzhang/envs/miniconda3/envs/mvsnerf/lib/python3.7/site-packages (from tensorflow-gpu->-r requirements.txt (line 1)) (0.2.2)\n",
      "Requirement already satisfied: keras-preprocessing>=1.0.5 in /home/yzhang/envs/miniconda3/envs/mvsnerf/lib/python3.7/site-packages (from tensorflow-gpu->-r requirements.txt (line 1)) (1.1.2)\n",
      "Requirement already satisfied: protobuf>=3.6.1 in /home/yzhang/envs/miniconda3/envs/mvsnerf/lib/python3.7/site-packages (from tensorflow-gpu->-r requirements.txt (line 1)) (3.16.0)\n",
      "Requirement already satisfied: absl-py>=0.7.0 in /home/yzhang/envs/miniconda3/envs/mvsnerf/lib/python3.7/site-packages (from tensorflow-gpu->-r requirements.txt (line 1)) (1.3.0)\n",
      "Requirement already satisfied: tensorflow-estimator==1.15.1 in /home/yzhang/envs/miniconda3/envs/mvsnerf/lib/python3.7/site-packages (from tensorflow-gpu->-r requirements.txt (line 1)) (1.15.1)\n",
      "Requirement already satisfied: wrapt>=1.11.1 in /home/yzhang/envs/miniconda3/envs/mvsnerf/lib/python3.7/site-packages (from tensorflow-gpu->-r requirements.txt (line 1)) (1.14.1)\n",
      "Requirement already satisfied: wheel>=0.26 in /home/yzhang/envs/miniconda3/envs/mvsnerf/lib/python3.7/site-packages (from tensorflow-gpu->-r requirements.txt (line 1)) (0.36.2)\n",
      "Requirement already satisfied: opt-einsum>=2.3.2 in /home/yzhang/envs/miniconda3/envs/mvsnerf/lib/python3.7/site-packages (from tensorflow-gpu->-r requirements.txt (line 1)) (3.3.0)\n",
      "Requirement already satisfied: astor>=0.6.0 in /home/yzhang/envs/miniconda3/envs/mvsnerf/lib/python3.7/site-packages (from tensorflow-gpu->-r requirements.txt (line 1)) (0.8.1)\n",
      "Requirement already satisfied: grpcio>=1.8.6 in /home/yzhang/envs/miniconda3/envs/mvsnerf/lib/python3.7/site-packages (from tensorflow-gpu->-r requirements.txt (line 1)) (1.37.1)\n",
      "Requirement already satisfied: tensorboard<1.16.0,>=1.15.0 in /home/yzhang/envs/miniconda3/envs/mvsnerf/lib/python3.7/site-packages (from tensorflow-gpu->-r requirements.txt (line 1)) (1.15.0)\n",
      "Requirement already satisfied: h5py in /home/yzhang/envs/miniconda3/envs/mvsnerf/lib/python3.7/site-packages (from keras-applications>=1.0.8->tensorflow-gpu->-r requirements.txt (line 1)) (3.2.1)\n",
      "Requirement already satisfied: werkzeug>=0.11.15 in /home/yzhang/envs/miniconda3/envs/mvsnerf/lib/python3.7/site-packages (from tensorboard<1.16.0,>=1.15.0->tensorflow-gpu->-r requirements.txt (line 1)) (1.0.1)\n",
      "Requirement already satisfied: markdown>=2.6.8 in /home/yzhang/envs/miniconda3/envs/mvsnerf/lib/python3.7/site-packages (from tensorboard<1.16.0,>=1.15.0->tensorflow-gpu->-r requirements.txt (line 1)) (3.3.4)\n",
      "Requirement already satisfied: importlib-metadata in /home/yzhang/envs/miniconda3/envs/mvsnerf/lib/python3.7/site-packages (from markdown>=2.6.8->tensorboard<1.16.0,>=1.15.0->tensorflow-gpu->-r requirements.txt (line 1)) (4.0.1)\n",
      "Requirement already satisfied: cached-property in /home/yzhang/envs/miniconda3/envs/mvsnerf/lib/python3.7/site-packages (from h5py->keras-applications>=1.0.8->tensorflow-gpu->-r requirements.txt (line 1)) (1.5.2)\n",
      "Requirement already satisfied: zipp>=0.5 in /home/yzhang/envs/miniconda3/envs/mvsnerf/lib/python3.7/site-packages (from importlib-metadata->markdown>=2.6.8->tensorboard<1.16.0,>=1.15.0->tensorflow-gpu->-r requirements.txt (line 1)) (3.4.1)\n"
     ]
    }
   ],
   "source": [
    "!pip install -r requirements.txt\n",
    "import tensorflow as tf\n",
    "import torch\n",
    "import torch.nn as nn\n",
    "import time\n",
    "import cv2\n",
    "import os\n",
    "import numpy as np\n",
    "import matplotlib.pyplot as plt\n",
    "\n",
    "from tf_model import Model\n",
    "from torch_model import TorchModel\n",
    "\n",
    "device = 'cuda:0'\n",
    "max_disp = 192"
   ]
  },
  {
   "cell_type": "markdown",
   "id": "f1f0f720",
   "metadata": {},
   "source": [
    "## Dataset Preparing"
   ]
  },
  {
   "cell_type": "code",
   "execution_count": 2,
   "id": "16f6e6e2",
   "metadata": {},
   "outputs": [
    {
     "name": "stdout",
     "output_type": "stream",
     "text": [
      "2 images found!\n",
      "Data loaded!\n"
     ]
    }
   ],
   "source": [
    "root = './data/'\n",
    "left_root = root + 'left/'\n",
    "right_root = root + 'right/'\n",
    "\n",
    "imgs = os.listdir(left_root)\n",
    "imgs = [im for im in imgs if im.find('_10.png') > -1]\n",
    "imgs.sort()\n",
    "print(f'{len(imgs)} images found!')\n",
    "\n",
    "left_imgs = [os.path.join(left_root, im) for im in imgs]\n",
    "right_imgs = [os.path.join(right_root, im) for im in imgs]\n",
    "\n",
    "target_size = (256, 512)\n",
    "\n",
    "def mean_std(inputs):\n",
    "    inputs = np.float32(inputs) / 255.\n",
    "    inputs[:, :, 0] -= 0.485\n",
    "    inputs[:, :, 0] /= 0.229\n",
    "    inputs[:, :, 1] -= 0.456\n",
    "    inputs[:, :, 1] /= 0.224\n",
    "    inputs[:, :, 2] -= 0.406\n",
    "    inputs[:, :, 2] /= 0.225\n",
    "    \n",
    "    return inputs\n",
    "\n",
    "def load_batch(left, right, patch_size):\n",
    "    batch_left = []\n",
    "    batch_right = []\n",
    "    for x, y in zip(left, right):\n",
    "        crop_x = (368 - patch_size[0]) // 2\n",
    "        crop_y = (1224 - patch_size[1]) // 2\n",
    "\n",
    "        x = cv2.imread(x)\n",
    "        x = cv2.cvtColor(x, cv2.COLOR_BGR2RGB)\n",
    "        x = x[crop_x: crop_x + patch_size[0], crop_y: crop_y + patch_size[1], :]\n",
    "        batch_left.append(x)\n",
    "\n",
    "        y = cv2.imread(y)\n",
    "        y = cv2.cvtColor(y, cv2.COLOR_BGR2RGB)\n",
    "        y = y[crop_x: crop_x + patch_size[0], crop_y: crop_y + patch_size[1], :]\n",
    "        batch_right.append(y)\n",
    "        \n",
    "    return batch_left, batch_right\n",
    "\n",
    "left_imgs, right_imgs = load_batch(left_imgs, right_imgs, patch_size=target_size)\n",
    "\n",
    "print('Data loaded!')"
   ]
  },
  {
   "cell_type": "markdown",
   "id": "e0c2bd56",
   "metadata": {},
   "source": [
    "## PyTorch Model Running"
   ]
  },
  {
   "cell_type": "code",
   "execution_count": null,
   "id": "b8bb55bb",
   "metadata": {},
   "outputs": [],
   "source": [
    "torch_net = TorchModel(max_disp=max_disp)\n",
    "checkpoint = torch.load('./ckpt/torch_final.ckpt')\n",
    "# checkpoint = torch.load('./ckpt/net-300.ckpt')\n",
    "torch_net.load_state_dict(checkpoint['state_dict'])\n",
    "torch_net = torch_net.to(device)\n",
    "\n",
    "with torch.no_grad():\n",
    "    for batch_idx, (imgL, imgR) in enumerate(zip(left_imgs, right_imgs)):\n",
    "        imgL_t = torch.from_numpy(mean_std(imgL)).to(device).unsqueeze(dim=0).permute(0, 3, 1, 2)\n",
    "        imgR_t = torch.from_numpy(mean_std(imgR)).to(device).unsqueeze(dim=0).permute(0, 3, 1, 2)\n",
    "        disp = torch_net.batch_predict(imgL_t, imgR_t)\n",
    "        disp = disp[0, 0].cpu().numpy()\n",
    "        \n",
    "        item = (disp * 255 / disp.max()).astype(np.uint8)\n",
    "        pred_rainbow = cv2.applyColorMap(item, cv2.COLORMAP_RAINBOW)[..., :3]\n",
    "        all_img = np.concatenate([imgL, imgR, pred_rainbow], axis=1)\n",
    "        all_img = (all_img / 255.0).clip(0, 1)\n",
    "        \n",
    "        n = 8\n",
    "        print('\\n' + '*'*n*3 + '    Example {}    '.format(batch_idx) + '*'*n*3 + '\\n')\n",
    "        print(' '*n + 'Left Image' + ' '*n + ' '*n + 'Reft Image' + ' '*n + ' '*n + 'Depth')\n",
    "        plt.figure(figsize=(8, 24), dpi=100)\n",
    "        plt.imshow(all_img)\n",
    "        plt.axis('off')\n",
    "        plt.show()\n",
    "        plt.close()\n"
   ]
  },
  {
   "cell_type": "markdown",
   "id": "4a29ca23",
   "metadata": {},
   "source": [
    "## TensorFlow Model Running"
   ]
  },
  {
   "cell_type": "code",
   "execution_count": null,
   "id": "7f578b98",
   "metadata": {},
   "outputs": [],
   "source": [
    "height, width = target_size\n",
    "\n",
    "with tf.compat.v1.Session() as sess:\n",
    "    net = Model(sess, height=height, weight=width, batch_size=1, \n",
    "                max_disp=max_disp, lr=0.001, cnn_3d_type='resnet_3d')\n",
    "    saver = tf.compat.v1.train.Saver()\n",
    "    saver.restore(sess, './ckpt/final.ckpt')\n",
    "    \n",
    "    for batch_idx, (imgL, imgR) in enumerate(zip(left_imgs, right_imgs)):\n",
    "        img_L = mean_std(imgL)\n",
    "        img_L = np.expand_dims(img_L, axis=0)\n",
    "        img_R = mean_std(imgR)\n",
    "        img_R = np.expand_dims(img_R, axis=0)\n",
    "        \n",
    "        pred = net.predict(img_L, img_R)\n",
    "        disp = np.squeeze(pred, axis=0)\n",
    "        \n",
    "        item = (disp * 255 / disp.max()).astype(np.uint8)\n",
    "        pred_rainbow = cv2.applyColorMap(item, cv2.COLORMAP_RAINBOW)[..., :3]\n",
    "        all_img = np.concatenate([imgL, imgR, pred_rainbow], axis=1)\n",
    "        all_img = (all_img / 255.0).clip(0, 1)\n",
    "        \n",
    "        n = 8\n",
    "        print('\\n' + '*'*n*3 + '    Example {}    '.format(batch_idx) + '*'*n*3 + '\\n')\n",
    "        print(' '*n + 'Left Image' + ' '*n + ' '*n + 'Reft Image' + ' '*n + ' '*n + 'Depth')\n",
    "        plt.figure(figsize=(8, 24), dpi=100)\n",
    "        plt.imshow(all_img)\n",
    "        plt.axis('off')\n",
    "        plt.show()\n",
    "        plt.close()\n",
    "        "
   ]
  }
 ],
 "metadata": {
  "kernelspec": {
   "display_name": "Python 3 (ipykernel)",
   "language": "python",
   "name": "python3"
  },
  "language_info": {
   "codemirror_mode": {
    "name": "ipython",
    "version": 3
   },
   "file_extension": ".py",
   "mimetype": "text/x-python",
   "name": "python",
   "nbconvert_exporter": "python",
   "pygments_lexer": "ipython3",
   "version": "3.7.9"
  }
 },
 "nbformat": 4,
 "nbformat_minor": 5
}
